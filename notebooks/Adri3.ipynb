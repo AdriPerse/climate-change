{
 "cells": [
  {
   "cell_type": "code",
   "execution_count": 1,
   "id": "40b66c3a-610f-4e14-b864-d33b78dbd8f7",
   "metadata": {},
   "outputs": [
    {
     "ename": "SyntaxError",
     "evalue": "invalid syntax (2545929230.py, line 1)",
     "output_type": "error",
     "traceback": [
      "\u001b[0;36m  Cell \u001b[0;32mIn[1], line 1\u001b[0;36m\u001b[0m\n\u001b[0;31m    Vfrom dash import Dash, dcc, html, Input, Output\u001b[0m\n\u001b[0m          ^\u001b[0m\n\u001b[0;31mSyntaxError\u001b[0m\u001b[0;31m:\u001b[0m invalid syntax\n"
     ]
    }
   ],
   "source": [
    "Vfrom dash import Dash, dcc, html, Input, Output\n",
    "import plotly.express as px"
   ]
  },
  {
   "cell_type": "code",
   "execution_count": null,
   "id": "bca5fa50-a084-46d1-aca3-eb8a43b3612d",
   "metadata": {},
   "outputs": [],
   "source": [
    "\n",
    "\n",
    "token = open(\".mapbox_token\").read() # you will need your own token\n",
    "\n",
    "\n",
    "app = Dash(__name__)\n",
    "\n",
    "app.layout = html.Div([\n",
    "    html.H4('Polotical candidate voting pool analysis'),\n",
    "    html.P(\"Select a candidate:\"),\n",
    "    dcc.RadioItems(\n",
    "        id='candidate', \n",
    "        options=[\"Joly\", \"Coderre\", \"Bergeron\"],\n",
    "        value=\"Coderre\",\n",
    "        inline=True\n",
    "    ),\n",
    "    dcc.Graph(id=\"graph\"),\n",
    "])\n",
    "\n",
    "\n",
    "@app.callback(\n",
    "    Output(\"graph\", \"figure\"), \n",
    "    Input(\"candidate\", \"value\"))\n",
    "def display_choropleth(candidate):\n",
    "    df = px.data.election() # replace with your own data source\n",
    "    geojson = px.data.election_geojson()\n",
    "\n",
    "    fig = px.choropleth_mapbox(\n",
    "        df, geojson=geojson, color=candidate,\n",
    "        locations=\"district\", featureidkey=\"properties.district\",\n",
    "        center={\"lat\": 45.5517, \"lon\": -73.7073}, zoom=9,\n",
    "        range_color=[0, 6500])\n",
    "    fig.update_layout(\n",
    "        margin={\"r\":0,\"t\":0,\"l\":0,\"b\":0},\n",
    "        mapbox_accesstoken=token)\n",
    "\n",
    "    return fig\n",
    "\n",
    "\n",
    "app.run_server(debug=True)"
   ]
  }
 ],
 "metadata": {
  "kernelspec": {
   "display_name": "VIZ",
   "language": "python",
   "name": "viz"
  },
  "language_info": {
   "codemirror_mode": {
    "name": "ipython",
    "version": 3
   },
   "file_extension": ".py",
   "mimetype": "text/x-python",
   "name": "python",
   "nbconvert_exporter": "python",
   "pygments_lexer": "ipython3",
   "version": "3.10.9"
  }
 },
 "nbformat": 4,
 "nbformat_minor": 5
}
