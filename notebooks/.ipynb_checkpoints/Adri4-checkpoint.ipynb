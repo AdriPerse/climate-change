{
 "cells": [
  {
   "cell_type": "code",
   "execution_count": 6,
   "id": "4e9a0102-be2c-415d-8e71-3dabef0610db",
   "metadata": {},
   "outputs": [],
   "source": [
    "import pandas as pd\n",
    "\n",
    "import plotly.graph_objects as go\n",
    "import plotly.express as px\n",
    "import plotly.io as pio\n",
    "from urllib.request import urlopen\n",
    "import json"
   ]
  },
  {
   "cell_type": "code",
   "execution_count": 7,
   "id": "d3690acb-f36c-41a9-ad82-f0cf0a27a884",
   "metadata": {},
   "outputs": [],
   "source": [
    "with open(\"../data/countries.geojson\") as response:\n",
    "    countries = json.load(response)"
   ]
  },
  {
   "cell_type": "code",
   "execution_count": 8,
   "id": "c7fd70d3-4591-401b-96a6-df194a759af5",
   "metadata": {},
   "outputs": [
    {
     "data": {
      "text/html": [
       "<div>\n",
       "<style scoped>\n",
       "    .dataframe tbody tr th:only-of-type {\n",
       "        vertical-align: middle;\n",
       "    }\n",
       "\n",
       "    .dataframe tbody tr th {\n",
       "        vertical-align: top;\n",
       "    }\n",
       "\n",
       "    .dataframe thead th {\n",
       "        text-align: right;\n",
       "    }\n",
       "</style>\n",
       "<table border=\"1\" class=\"dataframe\">\n",
       "  <thead>\n",
       "    <tr style=\"text-align: right;\">\n",
       "      <th></th>\n",
       "      <th>Unnamed: 0</th>\n",
       "      <th>Area</th>\n",
       "      <th>CO2pc</th>\n",
       "      <th>N20pc</th>\n",
       "      <th>CH4pc</th>\n",
       "      <th>CO2pc_n</th>\n",
       "      <th>N20pc_n</th>\n",
       "      <th>CH4pc_n</th>\n",
       "      <th>Total_n_emissions</th>\n",
       "    </tr>\n",
       "  </thead>\n",
       "  <tbody>\n",
       "    <tr>\n",
       "      <th>0</th>\n",
       "      <td>0</td>\n",
       "      <td>Afghanistan</td>\n",
       "      <td>0.236761</td>\n",
       "      <td>0.000434</td>\n",
       "      <td>0.017330</td>\n",
       "      <td>0.004780</td>\n",
       "      <td>0.022095</td>\n",
       "      <td>0.010505</td>\n",
       "      <td>0.037380</td>\n",
       "    </tr>\n",
       "    <tr>\n",
       "      <th>1</th>\n",
       "      <td>1</td>\n",
       "      <td>Albania</td>\n",
       "      <td>1.863978</td>\n",
       "      <td>0.001318</td>\n",
       "      <td>0.037862</td>\n",
       "      <td>0.044591</td>\n",
       "      <td>0.081592</td>\n",
       "      <td>0.029689</td>\n",
       "      <td>0.155872</td>\n",
       "    </tr>\n",
       "    <tr>\n",
       "      <th>2</th>\n",
       "      <td>2</td>\n",
       "      <td>Algeria</td>\n",
       "      <td>4.324232</td>\n",
       "      <td>0.000683</td>\n",
       "      <td>0.078202</td>\n",
       "      <td>0.104783</td>\n",
       "      <td>0.038864</td>\n",
       "      <td>0.067380</td>\n",
       "      <td>0.211026</td>\n",
       "    </tr>\n",
       "    <tr>\n",
       "      <th>3</th>\n",
       "      <td>3</td>\n",
       "      <td>Andorra</td>\n",
       "      <td>6.340101</td>\n",
       "      <td>0.000439</td>\n",
       "      <td>0.016349</td>\n",
       "      <td>0.154103</td>\n",
       "      <td>0.022421</td>\n",
       "      <td>0.009589</td>\n",
       "      <td>0.186113</td>\n",
       "    </tr>\n",
       "    <tr>\n",
       "      <th>4</th>\n",
       "      <td>4</td>\n",
       "      <td>Angola</td>\n",
       "      <td>0.854077</td>\n",
       "      <td>0.001852</td>\n",
       "      <td>0.067668</td>\n",
       "      <td>0.019883</td>\n",
       "      <td>0.117517</td>\n",
       "      <td>0.057537</td>\n",
       "      <td>0.194937</td>\n",
       "    </tr>\n",
       "  </tbody>\n",
       "</table>\n",
       "</div>"
      ],
      "text/plain": [
       "   Unnamed: 0         Area     CO2pc     N20pc     CH4pc   CO2pc_n   N20pc_n  \\\n",
       "0           0  Afghanistan  0.236761  0.000434  0.017330  0.004780  0.022095   \n",
       "1           1      Albania  1.863978  0.001318  0.037862  0.044591  0.081592   \n",
       "2           2      Algeria  4.324232  0.000683  0.078202  0.104783  0.038864   \n",
       "3           3      Andorra  6.340101  0.000439  0.016349  0.154103  0.022421   \n",
       "4           4       Angola  0.854077  0.001852  0.067668  0.019883  0.117517   \n",
       "\n",
       "    CH4pc_n  Total_n_emissions  \n",
       "0  0.010505           0.037380  \n",
       "1  0.029689           0.155872  \n",
       "2  0.067380           0.211026  \n",
       "3  0.009589           0.186113  \n",
       "4  0.057537           0.194937  "
      ]
     },
     "execution_count": 8,
     "metadata": {},
     "output_type": "execute_result"
    }
   ],
   "source": [
    "df = pd.read_csv(\"../data/TOT_EMpc_DF.csv\")\n",
    "df.head()"
   ]
  },
  {
   "cell_type": "code",
   "execution_count": 20,
   "id": "98f6b7c2-1b89-4709-a532-552d3876c37c",
   "metadata": {},
   "outputs": [
    {
     "data": {
      "text/plain": [
       "'fig3 = go.Figure(go.Choroplethmapbox(geojson=countries,\\n                                    locations=df.Area,\\n                                    z=df[\"CO2pc\"],\\n                                    featureidkey=\"properties.ADMIN\",\\n                                    colorscale=[[0, \\'rgb(255, 255, 255)\\'],\\n                                                [0.5, \\'rgb(255, 0, 0)\\'],\\n                                                [1, \\'rgb(0,0,0)\\']],\\n                                    zmax = df[\"CO2pc\"].max(),\\n                                    text = df.Area,\\n                                    hovertemplate=\"Country: %{text}<br> %{z}\"\\'<extra></extra>\\',\\n                                    marker_opacity=0.7,\\n                                    marker_line_width=0))\\n\\nfig3.update_layout(mapbox_style=\"carto-positron\",\\n                  mapbox_zoom=1)\\nfig3.update_layout(margin={\"r\":0,\"t\":0,\"l\":0,\"b\":0})\\nfig3.show()'"
      ]
     },
     "execution_count": 20,
     "metadata": {},
     "output_type": "execute_result"
    }
   ],
   "source": [
    "'''fig3 = go.Figure(go.Choroplethmapbox(geojson=countries,\n",
    "                                    locations=df.Area,\n",
    "                                    z=df[\"CO2pc\"],\n",
    "                                    featureidkey=\"properties.ADMIN\",\n",
    "                                    colorscale=[[0, 'rgb(255, 255, 255)'],\n",
    "                                                [0.5, 'rgb(255, 0, 0)'],\n",
    "                                                [1, 'rgb(0,0,0)']],\n",
    "                                    zmax = df[\"CO2pc\"].max(),\n",
    "                                    text = df.Area,\n",
    "                                    hovertemplate=\"Country: %{text}<br> %{z}\"'<extra></extra>',\n",
    "                                    marker_opacity=0.7,\n",
    "                                    marker_line_width=0))\n",
    "\n",
    "fig3.update_layout(mapbox_style=\"carto-positron\",\n",
    "                  mapbox_zoom=1)\n",
    "fig3.update_layout(margin={\"r\":0,\"t\":0,\"l\":0,\"b\":0})\n",
    "fig3.show()'''"
   ]
  },
  {
   "cell_type": "code",
   "execution_count": 21,
   "id": "79fb58b6-eacf-4526-a58f-d7075e0a178c",
   "metadata": {},
   "outputs": [
    {
     "data": {
      "text/plain": [
       "'fig4 = go.Figure(go.Choroplethmapbox(geojson=countries,\\n                                    locations=df.Area,\\n                                    z=df[\"N20pc\"],\\n                                    featureidkey=\"properties.ADMIN\",\\n                                    colorscale=[[0, \\'rgb(255, 255, 255)\\'],\\n                                                [0.5, \\'rgb(255, 0, 0)\\'],\\n                                                [1, \\'rgb(0,0,0)\\']],\\n                                    zmax = df[\"CO2pc\"].max(),\\n                                    text = df.Area,\\n                                    hovertemplate=\"Country: %{text}<br> %{z}\"\\'<extra></extra>\\',\\n                                    marker_opacity=0.7,\\n                                    marker_line_width=0))\\n\\nfig4.update_layout(mapbox_style=\"carto-positron\",\\n                  mapbox_zoom=1)\\nfig4.update_layout(margin={\"r\":0,\"t\":0,\"l\":0,\"b\":0})\\nfig4.show()'"
      ]
     },
     "execution_count": 21,
     "metadata": {},
     "output_type": "execute_result"
    }
   ],
   "source": [
    "'''fig4 = go.Figure(go.Choroplethmapbox(geojson=countries,\n",
    "                                    locations=df.Area,\n",
    "                                    z=df[\"N20pc\"],\n",
    "                                    featureidkey=\"properties.ADMIN\",\n",
    "                                    colorscale=[[0, 'rgb(255, 255, 255)'],\n",
    "                                                [0.5, 'rgb(255, 0, 0)'],\n",
    "                                                [1, 'rgb(0,0,0)']],\n",
    "                                    zmax = df[\"CO2pc\"].max(),\n",
    "                                    text = df.Area,\n",
    "                                    hovertemplate=\"Country: %{text}<br> %{z}\"'<extra></extra>',\n",
    "                                    marker_opacity=0.7,\n",
    "                                    marker_line_width=0))\n",
    "\n",
    "fig4.update_layout(mapbox_style=\"carto-positron\",\n",
    "                  mapbox_zoom=1)\n",
    "fig4.update_layout(margin={\"r\":0,\"t\":0,\"l\":0,\"b\":0})\n",
    "fig4.show()'''"
   ]
  },
  {
   "cell_type": "code",
   "execution_count": 22,
   "id": "124dcda2-1b5d-4716-8221-e3681c7502b1",
   "metadata": {},
   "outputs": [
    {
     "data": {
      "text/plain": [
       "'fig5 = go.Figure(go.Choroplethmapbox(geojson=countries,\\n                                    locations=df.Area,\\n                                    z=df[\"CH4pc\"],\\n                                    featureidkey=\"properties.ADMIN\",\\n                                    colorscale=[[0, \\'rgb(255, 255, 255)\\'],\\n                                                [0.5, \\'rgb(255, 0, 0)\\'],\\n                                                [1, \\'rgb(0,0,0)\\']],\\n                                    zmax = df[\"CH4pc\"].max(),\\n                                    text = df.Area,\\n                                    hovertemplate=\"Country: %{text}<br> %{z}\"\\'<extra></extra>\\',\\n                                    marker_opacity=0.7,\\n                                    marker_line_width=0))\\n\\nfig5.update_layout(mapbox_style=\"carto-positron\",\\n                  mapbox_zoom=1)\\nfig5.update_layout(margin={\"r\":0,\"t\":0,\"l\":0,\"b\":0})\\nfig5.show()'"
      ]
     },
     "execution_count": 22,
     "metadata": {},
     "output_type": "execute_result"
    }
   ],
   "source": [
    "'''fig5 = go.Figure(go.Choroplethmapbox(geojson=countries,\n",
    "                                    locations=df.Area,\n",
    "                                    z=df[\"CH4pc\"],\n",
    "                                    featureidkey=\"properties.ADMIN\",\n",
    "                                    colorscale=[[0, 'rgb(255, 255, 255)'],\n",
    "                                                [0.5, 'rgb(255, 0, 0)'],\n",
    "                                                [1, 'rgb(0,0,0)']],\n",
    "                                    zmax = df[\"CH4pc\"].max(),\n",
    "                                    text = df.Area,\n",
    "                                    hovertemplate=\"Country: %{text}<br> %{z}\"'<extra></extra>',\n",
    "                                    marker_opacity=0.7,\n",
    "                                    marker_line_width=0))\n",
    "\n",
    "fig5.update_layout(mapbox_style=\"carto-positron\",\n",
    "                  mapbox_zoom=1)\n",
    "fig5.update_layout(margin={\"r\":0,\"t\":0,\"l\":0,\"b\":0})\n",
    "fig5.show()'''"
   ]
  },
  {
   "cell_type": "code",
   "execution_count": 23,
   "id": "58793af1-d0de-42bd-a7cd-dc0467298e32",
   "metadata": {},
   "outputs": [
    {
     "data": {
      "text/plain": [
       "'fig6 = go.Figure(go.Choroplethmapbox(geojson=countries,\\n                                    locations=df.Area,\\n                                    z=df[\"Total_n_emissions\"],\\n                                    featureidkey=\"properties.ADMIN\",\\n                                    colorscale=[[0, \\'rgb(255, 255, 255)\\'],\\n                                                [0.5, \\'rgb(255, 0, 0)\\'],\\n                                                [1, \\'rgb(0,0,0)\\']],\\n                                    zmax = df[\"Total_n_emissions\"].max(),\\n                                    text = df.Area,\\n                                    hovertemplate=\"Country: %{text}<br> %{z}\"\\'<extra></extra>\\',\\n                                    marker_opacity=0.7,\\n                                    marker_line_width=0))\\n\\nfig6.update_layout(mapbox_style=\"carto-positron\",\\n                  mapbox_zoom=1)\\nfig6.update_layout(margin={\"r\":0,\"t\":0,\"l\":0,\"b\":0})\\nfig6.show()'"
      ]
     },
     "execution_count": 23,
     "metadata": {},
     "output_type": "execute_result"
    }
   ],
   "source": [
    "'''fig6 = go.Figure(go.Choroplethmapbox(geojson=countries,\n",
    "                                    locations=df.Area,\n",
    "                                    z=df[\"Total_n_emissions\"],\n",
    "                                    featureidkey=\"properties.ADMIN\",\n",
    "                                    colorscale=[[0, 'rgb(255, 255, 255)'],\n",
    "                                                [0.5, 'rgb(255, 0, 0)'],\n",
    "                                                [1, 'rgb(0,0,0)']],\n",
    "                                    zmax = df[\"Total_n_emissions\"].max(),\n",
    "                                    text = df.Area,\n",
    "                                    hovertemplate=\"Country: %{text}<br> %{z}\"'<extra></extra>',\n",
    "                                    marker_opacity=0.7,\n",
    "                                    marker_line_width=0))\n",
    "\n",
    "fig6.update_layout(mapbox_style=\"carto-positron\",\n",
    "                  mapbox_zoom=1)\n",
    "fig6.update_layout(margin={\"r\":0,\"t\":0,\"l\":0,\"b\":0})\n",
    "fig6.show()'''"
   ]
  },
  {
   "cell_type": "code",
   "execution_count": null,
   "id": "3932f3a5-364e-48d5-ad30-184ebbf870e1",
   "metadata": {},
   "outputs": [],
   "source": []
  }
 ],
 "metadata": {
  "kernelspec": {
   "display_name": "VIZ",
   "language": "python",
   "name": "viz"
  },
  "language_info": {
   "codemirror_mode": {
    "name": "ipython",
    "version": 3
   },
   "file_extension": ".py",
   "mimetype": "text/x-python",
   "name": "python",
   "nbconvert_exporter": "python",
   "pygments_lexer": "ipython3",
   "version": "3.10.9"
  }
 },
 "nbformat": 4,
 "nbformat_minor": 5
}
